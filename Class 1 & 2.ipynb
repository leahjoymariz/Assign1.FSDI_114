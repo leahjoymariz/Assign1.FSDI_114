{
 "cells": [
  {
   "cell_type": "code",
   "execution_count": 6,
   "id": "14628dcf",
   "metadata": {},
   "outputs": [
    {
     "name": "stdout",
     "output_type": "stream",
     "text": [
      "H\n",
      "e\n",
      "l\n",
      "l\n",
      "o\n",
      ",\n",
      " \n",
      "w\n",
      "o\n",
      "r\n",
      "l\n",
      "d\n"
     ]
    }
   ],
   "source": [
    "for letter in \"Hello, world\":\n",
    "    print(letter)"
   ]
  },
  {
   "cell_type": "markdown",
   "id": "93bc8a6d",
   "metadata": {},
   "source": [
    "# Problem 1 \n",
    "\n",
    "### Anagram check\n",
    "\n",
    "Create a function that takes two strings as parameter and returns True is they are anagrams of each other, False otherwise.\n",
    "\n",
    "...\n",
    "Examples:\n",
    "1. heart and earth\n",
    "2. scar and cars\n",
    "3. star and rats\n",
    "etc\n",
    "...\n",
    "\n",
    "### Criteria"
   ]
  },
  {
   "cell_type": "markdown",
   "id": "79fc4d87",
   "metadata": {},
   "source": [
    "# Pseudocode\n",
    "\n",
    "````\n",
    "define a function anagram_check that receives parameters: string_a, string_b:\n",
    "    string_a = string_a in lower case\n",
    "    remove_spaces(string_a)\n",
    "    string_b = string_b in lower case\n",
    "    remove_spaces(string_b)\n",
    "    if the length of string_a does not equal the length of string_b:\n",
    "        return False\n",
    "    otherwise:\n",
    "        dict_a = new dictionary\n",
    "        dict_b = new dictionary\n",
    "        for each index in the range from 0 tot he length of string_a minus one:\n",
    "            if the character at the index in string_a is in dict_a:\n",
    "                add one to the existing value of that character in dict_a\n",
    "            otherwise:\n",
    "                Create a new entry in dict_a # that represents I've seen that character once\n",
    "                add one to the value of that character in dict_a\n",
    "            if the character at index in string_b is in dict_b:\n",
    "            otherwise:\n",
    "                create a new entry in dict_b\n",
    "                add one to the value of that character in dict_b\n",
    "         end for\n",
    "      if dict_a is equal to dict_b\n",
    "          return True\n",
    "      otherwise:\n",
    "          return False\n",
    "          \n",
    "          "
   ]
  },
  {
   "cell_type": "code",
   "execution_count": 7,
   "id": "bfb6bf6c",
   "metadata": {},
   "outputs": [
    {
     "name": "stdout",
     "output_type": "stream",
     "text": [
      "a\n",
      "abc\n",
      "leahduco\n"
     ]
    }
   ],
   "source": [
    "x = ord(\"A\")\n",
    "y = x + 32\n",
    "\n",
    "print(chr(y))\n",
    "\n",
    "x = \"a b c\"\n",
    "\n",
    "\n",
    "y = \"\"\n",
    "for char in x:\n",
    "    if char != \" \":\n",
    "        y += char\n",
    "print(y)\n",
    "\n",
    "string_a = \"Leah Duco\"\n",
    "\n",
    "print(string_a.lower().replace(\" \", \"\"))"
   ]
  },
  {
   "cell_type": "code",
   "execution_count": 8,
   "id": "b59d7aa1",
   "metadata": {},
   "outputs": [
    {
     "data": {
      "text/plain": [
       "True"
      ]
     },
     "execution_count": 8,
     "metadata": {},
     "output_type": "execute_result"
    }
   ],
   "source": [
    "def check_anagram(string_a, string_b):\n",
    "    return sorted(string_a) == sorted(string_b)\n",
    "\n",
    "check_anagram(\"rats\", \"star\")"
   ]
  },
  {
   "cell_type": "code",
   "execution_count": null,
   "id": "2bd84550",
   "metadata": {},
   "outputs": [],
   "source": [
    "# simplified implementation of stack:\n",
    "class Stack:\n",
    "    def __init__(self):\n",
    "        self.items = []\n",
    "        \n",
    "    def push(self, value):\n",
    "        self.items.append(value)\n",
    "        \n",
    "    def pop(self):\n",
    "        return self.items.pop()\n",
    "    \n",
    "    # nice to have methods:\n",
    "    \n",
    "    def size(self):\n",
    "        return len(self.items)\n",
    "    \n",
    "    def peek(self):\n",
    "        return self.items[len(self.items)-1]\n",
    "    \n",
    "    def is_empty(self):\n",
    "        return self.items == []"
   ]
  },
  {
   "cell_type": "markdown",
   "id": "b008b445",
   "metadata": {},
   "source": [
    "#  Problem 2\n",
    "\n",
    "Use the stack class above to invert a string.\n",
    "    example:\n",
    "    given \"rafael\" your function should return \"leafeR\"\n",
    "    given \"stars your function should return \"strats\"\n",
    "    given \"cool\"your function should return \"looc\"\n",
    "    \n",
    " Your function must receive a string as a parameter and return a string (not alist or anything else)\n",
    " \n",
    " Your function must use the stack class above.\n",
    " \n",
    " You cannot google anythong fro the challenge."
   ]
  },
  {
   "cell_type": "code",
   "execution_count": 9,
   "id": "1a27ff81",
   "metadata": {},
   "outputs": [
    {
     "ename": "NameError",
     "evalue": "name 'Stack' is not defined",
     "output_type": "error",
     "traceback": [
      "\u001b[0;31m---------------------------------------------------------------------------\u001b[0m",
      "\u001b[0;31mNameError\u001b[0m                                 Traceback (most recent call last)",
      "Cell \u001b[0;32mIn[9], line 10\u001b[0m\n\u001b[1;32m      7\u001b[0m         out \u001b[38;5;241m+\u001b[39m\u001b[38;5;241m=\u001b[39m stack\u001b[38;5;241m.\u001b[39mpop()\n\u001b[1;32m      8\u001b[0m     \u001b[38;5;28;01mreturn\u001b[39;00m out\n\u001b[0;32m---> 10\u001b[0m \u001b[38;5;28mprint\u001b[39m(\u001b[43minvert\u001b[49m\u001b[43m(\u001b[49m\u001b[38;5;124;43m\"\u001b[39;49m\u001b[38;5;124;43mRafael\u001b[39;49m\u001b[38;5;124;43m\"\u001b[39;49m\u001b[43m)\u001b[49m)\n",
      "Cell \u001b[0;32mIn[9], line 2\u001b[0m, in \u001b[0;36minvert\u001b[0;34m(mystring)\u001b[0m\n\u001b[1;32m      1\u001b[0m \u001b[38;5;28;01mdef\u001b[39;00m \u001b[38;5;21minvert\u001b[39m(mystring):\n\u001b[0;32m----> 2\u001b[0m     stack \u001b[38;5;241m=\u001b[39m  \u001b[43mStack\u001b[49m()\n\u001b[1;32m      3\u001b[0m     out \u001b[38;5;241m=\u001b[39m \u001b[38;5;124m\"\u001b[39m\u001b[38;5;124m\"\u001b[39m\n\u001b[1;32m      4\u001b[0m     \u001b[38;5;28;01mfor\u001b[39;00m char \u001b[38;5;129;01min\u001b[39;00m mystring:\n",
      "\u001b[0;31mNameError\u001b[0m: name 'Stack' is not defined"
     ]
    }
   ],
   "source": [
    "def invert(mystring):\n",
    "    stack =  Stack()\n",
    "    out = \"\"\n",
    "    for char in mystring:\n",
    "        stack.push(char)\n",
    "    while not stack.is_empty():\n",
    "        out += stack.pop()\n",
    "    return out\n",
    "\n",
    "print(invert(\"Rafael\"))"
   ]
  },
  {
   "cell_type": "code",
   "execution_count": null,
   "id": "8c33b62a",
   "metadata": {},
   "outputs": [],
   "source": []
  }
 ],
 "metadata": {
  "kernelspec": {
   "display_name": "Python 3 (ipykernel)",
   "language": "python",
   "name": "python3"
  },
  "language_info": {
   "codemirror_mode": {
    "name": "ipython",
    "version": 3
   },
   "file_extension": ".py",
   "mimetype": "text/x-python",
   "name": "python",
   "nbconvert_exporter": "python",
   "pygments_lexer": "ipython3",
   "version": "3.10.6"
  }
 },
 "nbformat": 4,
 "nbformat_minor": 5
}
