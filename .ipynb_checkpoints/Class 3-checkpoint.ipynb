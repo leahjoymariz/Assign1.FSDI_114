{
 "cells": [
  {
   "cell_type": "code",
   "execution_count": null,
   "id": "f1901045",
   "metadata": {},
   "outputs": [],
   "source": [
    "# Simplified implementation of a stack\n",
    "\n",
    "class Stack:\n",
    "    def __init__(self):\n",
    "        self.item = []\n",
    "        \n",
    "    def push(self, value):\n",
    "        self.items.append(value)\n",
    "        \n",
    "    def pop(self):\n",
    "        self.items.pop()\n",
    "        \n",
    "    # nice to have:\n",
    "    \n",
    "    def size(self):\n",
    "        return len(self.items)\n",
    "    \n",
    "    def is_empty(self):\n",
    "        return self.items == []\n",
    "    \n",
    "    def peek(self):\n",
    "        return self. items == []\n",
    "    \n",
    "    def peek (self):\n",
    "        return self.items[len(self.items)-1]\n",
    "        "
   ]
  },
  {
   "cell_type": "code",
   "execution_count": 4,
   "id": "4c9b7651",
   "metadata": {},
   "outputs": [
    {
     "ename": "NameError",
     "evalue": "name 'Stack' is not defined",
     "output_type": "error",
     "traceback": [
      "\u001b[0;31m---------------------------------------------------------------------------\u001b[0m",
      "\u001b[0;31mNameError\u001b[0m                                 Traceback (most recent call last)",
      "Cell \u001b[0;32mIn[4], line 10\u001b[0m\n\u001b[1;32m      7\u001b[0m         out \u001b[38;5;241m+\u001b[39m\u001b[38;5;241m=\u001b[39m stack\u001b[38;5;241m.\u001b[39mpop()\n\u001b[1;32m      8\u001b[0m     \u001b[38;5;28;01mreturn\u001b[39;00m out \n\u001b[0;32m---> 10\u001b[0m \u001b[43minvert\u001b[49m\u001b[43m(\u001b[49m\u001b[38;5;124;43m\"\u001b[39;49m\u001b[38;5;124;43mLeah\u001b[39;49m\u001b[38;5;124;43m\"\u001b[39;49m\u001b[43m)\u001b[49m\n",
      "Cell \u001b[0;32mIn[4], line 2\u001b[0m, in \u001b[0;36minvert\u001b[0;34m(mystring)\u001b[0m\n\u001b[1;32m      1\u001b[0m \u001b[38;5;28;01mdef\u001b[39;00m \u001b[38;5;21minvert\u001b[39m(mystring):\n\u001b[0;32m----> 2\u001b[0m     stack \u001b[38;5;241m=\u001b[39m \u001b[43mStack\u001b[49m()\n\u001b[1;32m      3\u001b[0m     out \u001b[38;5;241m=\u001b[39m \u001b[38;5;124m\"\u001b[39m\u001b[38;5;124m\"\u001b[39m\n\u001b[1;32m      4\u001b[0m     \u001b[38;5;28;01mfor\u001b[39;00m letter \u001b[38;5;129;01min\u001b[39;00m mystring:\n",
      "\u001b[0;31mNameError\u001b[0m: name 'Stack' is not defined"
     ]
    }
   ],
   "source": [
    "def invert(mystring):\n",
    "    stack = Stack()\n",
    "    out = \"\"\n",
    "    for letter in mystring:\n",
    "        stack.push(letter)\n",
    "    while not stack.is_empty():\n",
    "        out += stack.pop()\n",
    "    return out \n",
    "        \n",
    "invert(\"Leah\")"
   ]
  },
  {
   "cell_type": "code",
   "execution_count": null,
   "id": "abae4c34",
   "metadata": {},
   "outputs": [],
   "source": [
    "# Complex implementation of Stack\n",
    "\n",
    "class CStack:\n",
    "    class Node(self, data):\n",
    "        self.data = data\n",
    "        self.below = None\n",
    "        \n",
    "    def __init__(self):\n",
    "        self.top = None\n",
    "        \n",
    "    def push(self, value):\n",
    "        if not self.top:\n",
    "            self.top = self.Node(value)\n",
    "        else:\n",
    "            new_node = self.Node(value)\n",
    "            new_node.bottom = self.top\n",
    "            self.top = new_node"
   ]
  }
 ],
 "metadata": {
  "kernelspec": {
   "display_name": "Python 3 (ipykernel)",
   "language": "python",
   "name": "python3"
  },
  "language_info": {
   "codemirror_mode": {
    "name": "ipython",
    "version": 3
   },
   "file_extension": ".py",
   "mimetype": "text/x-python",
   "name": "python",
   "nbconvert_exporter": "python",
   "pygments_lexer": "ipython3",
   "version": "3.10.6"
  }
 },
 "nbformat": 4,
 "nbformat_minor": 5
}
